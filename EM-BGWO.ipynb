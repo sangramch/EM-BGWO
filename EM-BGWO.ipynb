{
  "nbformat": 4,
  "nbformat_minor": 0,
  "metadata": {
    "colab": {
      "name": "BGWO_Trial.ipynb",
      "provenance": [],
      "collapsed_sections": [],
      "include_colab_link": true
    },
    "kernelspec": {
      "name": "python3",
      "display_name": "Python 3"
    },
    "language_info": {
      "name": "python"
    },
    "accelerator": "GPU"
  },
  "cells": [
    {
      "cell_type": "markdown",
      "metadata": {
        "id": "view-in-github",
        "colab_type": "text"
      },
      "source": [
        "<a href=\"https://colab.research.google.com/github/sangramch/EM-BGWO/blob/main/EM-BGWO.ipynb\" target=\"_parent\"><img src=\"https://colab.research.google.com/assets/colab-badge.svg\" alt=\"Open In Colab\"/></a>"
      ]
    },
    {
      "cell_type": "code",
      "metadata": {
        "id": "b9KGHn45uRE0"
      },
      "source": [
        "import math\n",
        "import time\n",
        "import random\n",
        "import numpy as np\n",
        "from copy import copy\n",
        "import tensorflow as tf\n",
        "from sklearn import metrics\n",
        "from sklearn import neighbors\n",
        "from tensorflow.keras import utils\n",
        "from sklearn import ensemble,tree,svm\n",
        "from tensorflow.keras.models import Model\n",
        "from sklearn.model_selection import train_test_split\n",
        "from tensorflow.keras.optimizers import RMSprop,Adam,SGD\n",
        "from tensorflow.keras.activations import sigmoid, softmax\n",
        "from sklearn.preprocessing import MinMaxScaler, StandardScaler\n",
        "from tensorflow.keras.layers import Dense,Input,Dropout,BatchNormalization"
      ],
      "execution_count": 1,
      "outputs": []
    },
    {
      "cell_type": "code",
      "metadata": {
        "id": "gv0EQevNpgM1",
        "colab": {
          "base_uri": "https://localhost:8080/"
        },
        "outputId": "8064b69c-06a7-44ae-b865-cfec4dd3420d"
      },
      "source": [
        "!nvidia-smi"
      ],
      "execution_count": 2,
      "outputs": [
        {
          "output_type": "stream",
          "text": [
            "Sun May  2 13:01:18 2021       \n",
            "+-----------------------------------------------------------------------------+\n",
            "| NVIDIA-SMI 465.19.01    Driver Version: 460.32.03    CUDA Version: 11.2     |\n",
            "|-------------------------------+----------------------+----------------------+\n",
            "| GPU  Name        Persistence-M| Bus-Id        Disp.A | Volatile Uncorr. ECC |\n",
            "| Fan  Temp  Perf  Pwr:Usage/Cap|         Memory-Usage | GPU-Util  Compute M. |\n",
            "|                               |                      |               MIG M. |\n",
            "|===============================+======================+======================|\n",
            "|   0  Tesla K80           Off  | 00000000:00:04.0 Off |                    0 |\n",
            "| N/A   30C    P8    25W / 149W |      0MiB / 11441MiB |      0%      Default |\n",
            "|                               |                      |                  N/A |\n",
            "+-------------------------------+----------------------+----------------------+\n",
            "                                                                               \n",
            "+-----------------------------------------------------------------------------+\n",
            "| Processes:                                                                  |\n",
            "|  GPU   GI   CI        PID   Type   Process name                  GPU Memory |\n",
            "|        ID   ID                                                   Usage      |\n",
            "|=============================================================================|\n",
            "|  No running processes found                                                 |\n",
            "+-----------------------------------------------------------------------------+\n"
          ],
          "name": "stdout"
        }
      ]
    },
    {
      "cell_type": "code",
      "metadata": {
        "id": "onDw1M6VIDRK",
        "colab": {
          "base_uri": "https://localhost:8080/"
        },
        "outputId": "5947e3c2-9760-4f0e-bdb5-d10a0d56f75c"
      },
      "source": [
        "!mkdir dataset\n",
        "!gdown \"https://drive.google.com/uc?id=1zEL8QCuZPq0uF-5MRs7LZUoplDB_Tnt8\"\n",
        "!unzip \"/content/Balanced_Morefeatures.zip\" -d /content/dataset/"
      ],
      "execution_count": 3,
      "outputs": [
        {
          "output_type": "stream",
          "text": [
            "Downloading...\n",
            "From: https://drive.google.com/uc?id=1zEL8QCuZPq0uF-5MRs7LZUoplDB_Tnt8\n",
            "To: /content/Balanced_Morefeatures.zip\n",
            "4.88MB [00:00, 13.3MB/s]\n",
            "Archive:  /content/Balanced_Morefeatures.zip\n",
            "   creating: /content/dataset/test/\n",
            "  inflating: /content/dataset/test/features.npy  \n",
            "  inflating: /content/dataset/test/labels.npy  \n",
            "   creating: /content/dataset/train/\n",
            "  inflating: /content/dataset/train/features.npy  \n",
            "  inflating: /content/dataset/train/labels.npy  \n",
            "   creating: /content/dataset/valid/\n",
            "  inflating: /content/dataset/valid/features.npy  \n",
            "  inflating: /content/dataset/valid/labels.npy  \n"
          ],
          "name": "stdout"
        }
      ]
    },
    {
      "cell_type": "code",
      "metadata": {
        "id": "qHXI2puJLsso",
        "colab": {
          "base_uri": "https://localhost:8080/"
        },
        "outputId": "4b30ae49-187b-485a-8d19-05910d746c98"
      },
      "source": [
        "!mkdir dataset2\n",
        "!gdown \"https://drive.google.com/uc?id=1PpPGMzkHRzODGCEKBRxPeCFztu0gJ5Wl\"\n",
        "!unzip \"/content/Unbalanced_Morefeatures.zip\" -d /content/dataset2/"
      ],
      "execution_count": 4,
      "outputs": [
        {
          "output_type": "stream",
          "text": [
            "Downloading...\n",
            "From: https://drive.google.com/uc?id=1PpPGMzkHRzODGCEKBRxPeCFztu0gJ5Wl\n",
            "To: /content/Unbalanced_Morefeatures.zip\n",
            "9.31MB [00:00, 20.0MB/s]\n",
            "Archive:  /content/Unbalanced_Morefeatures.zip\n",
            "   creating: /content/dataset2/test/\n",
            "  inflating: /content/dataset2/test/features.npy  \n",
            "  inflating: /content/dataset2/test/labels.npy  \n",
            "   creating: /content/dataset2/train/\n",
            "  inflating: /content/dataset2/train/features.npy  \n",
            "  inflating: /content/dataset2/train/labels.npy  \n",
            "   creating: /content/dataset2/valid/\n",
            "  inflating: /content/dataset2/valid/features.npy  \n",
            "  inflating: /content/dataset2/valid/labels.npy  \n"
          ],
          "name": "stdout"
        }
      ]
    },
    {
      "cell_type": "code",
      "metadata": {
        "id": "g1d-9Jy0ID2B"
      },
      "source": [
        "train_features = np.load(\"/content/dataset/train/features.npy\")\n",
        "train_labels = np.load(\"/content/dataset/train/labels.npy\")\n",
        "\n",
        "test_features = np.load(\"/content/dataset/test/features.npy\")\n",
        "test_labels = np.load(\"/content/dataset/test/labels.npy\")\n",
        "\n",
        "valid_features = np.load(\"/content/dataset/valid/features.npy\")\n",
        "valid_labels = np.load(\"/content/dataset/valid/labels.npy\")"
      ],
      "execution_count": 5,
      "outputs": []
    },
    {
      "cell_type": "code",
      "metadata": {
        "id": "kn4Ql3WiIHfh"
      },
      "source": [
        "train_features_u = np.load(\"/content/dataset2/train/features.npy\")\n",
        "train_labels_u = np.load(\"/content/dataset2/train/labels.npy\")\n",
        "\n",
        "test_features_u = np.load(\"/content/dataset2/test/features.npy\")\n",
        "test_labels_u = np.load(\"/content/dataset2/test/labels.npy\")\n",
        "\n",
        "valid_features_u = np.load(\"/content/dataset2/valid/features.npy\")\n",
        "valid_labels_u = np.load(\"/content/dataset2/valid/labels.npy\")"
      ],
      "execution_count": 6,
      "outputs": []
    },
    {
      "cell_type": "code",
      "metadata": {
        "id": "hRv62vbVmMQq"
      },
      "source": [
        "total_feats = train_features.shape[1]\n",
        "mask_f = np.ones(total_feats)"
      ],
      "execution_count": 7,
      "outputs": []
    },
    {
      "cell_type": "code",
      "metadata": {
        "id": "3S8KmKJkkfEZ"
      },
      "source": [
        "def SvcLearner(features, labels, valid_features, valid_labels, mask):\n",
        "    mask = np.array(mask)\n",
        "    inx = np.where(mask==0)\n",
        "    \n",
        "    scaler = MinMaxScaler()\n",
        "    features_masked = scaler.fit_transform(np.delete(features, inx, axis=1))\n",
        "    valid_features_masked = scaler.transform(np.delete(valid_features, inx, axis=1))\n",
        "    \n",
        "    #features_masked = np.delete(features, inx, axis=1)\n",
        "    #valid_features_masked = np.delete(valid_features, inx, axis=1)\n",
        "\n",
        "    knn = svm.SVC()\n",
        "\n",
        "    knn.fit(features_masked, labels)\n",
        "\n",
        "    predicted_labels = knn.predict(valid_features_masked)\n",
        "\n",
        "    score = metrics.accuracy_score(valid_labels, predicted_labels)\n",
        "    return score, [knn, scaler]"
      ],
      "execution_count": 8,
      "outputs": []
    },
    {
      "cell_type": "code",
      "metadata": {
        "id": "EPaqGRnHoY_j"
      },
      "source": [
        "def KnnLearner(features, labels, valid_features, valid_labels, mask):\n",
        "    mask = np.array(mask)\n",
        "    inx = np.where(mask==0)\n",
        "    \n",
        "    scaler = MinMaxScaler()\n",
        "    features_masked = scaler.fit_transform(np.delete(features, inx, axis=1))\n",
        "    valid_features_masked = scaler.transform(np.delete(valid_features, inx, axis=1))\n",
        "    \n",
        "    #features_masked = np.delete(features, inx, axis=1)\n",
        "    #valid_features_masked = np.delete(valid_features, inx, axis=1)\n",
        "\n",
        "    knn = neighbors.KNeighborsClassifier()\n",
        "\n",
        "    knn.fit(features_masked, labels)\n",
        "\n",
        "    predicted_labels = knn.predict(valid_features_masked)\n",
        "\n",
        "    score = metrics.accuracy_score(valid_labels, predicted_labels)\n",
        "    return score, [knn, scaler]"
      ],
      "execution_count": 9,
      "outputs": []
    },
    {
      "cell_type": "code",
      "metadata": {
        "id": "95K6CTk43OVj"
      },
      "source": [
        "def DecisionTreeLearner(features, labels, valid_features, valid_labels, mask):\n",
        "    mask = np.array(mask)\n",
        "    inx = np.where(mask==0)\n",
        "\n",
        "    scaler = MinMaxScaler()\n",
        "    features_masked = scaler.fit_transform(np.delete(features, inx, axis=1))\n",
        "    valid_features_masked = scaler.transform(np.delete(valid_features, inx, axis=1))\n",
        "\n",
        "    #features_masked = np.delete(features, inx, axis=1)\n",
        "    #valid_features_masked = np.delete(valid_features, inx, axis=1)\n",
        "\n",
        "    knn = tree.DecisionTreeClassifier()\n",
        "    #knn = ensemble.RandomForestClassifier()\n",
        "\n",
        "    knn.fit(features_masked, labels)\n",
        "\n",
        "    predicted_labels = knn.predict(valid_features_masked)\n",
        "\n",
        "    score = metrics.accuracy_score(valid_labels, predicted_labels)\n",
        "    return score, [knn, scaler]"
      ],
      "execution_count": 10,
      "outputs": []
    },
    {
      "cell_type": "code",
      "metadata": {
        "id": "t1ZQkiTQpjIy"
      },
      "source": [
        "class PrintLogs(tf.keras.callbacks.Callback):\n",
        "    def __init__(self, epochs):\n",
        "        self.epochs = epochs\n",
        "\n",
        "    def set_params(self, params):\n",
        "        params['epochs'] = 0\n",
        "\n",
        "    def on_epoch_begin(self, epoch, logs=None):\n",
        "        if (epoch+1)%10 == 1:\n",
        "            print('\\tEpoch %d/%d' % (epoch + 1, self.epochs), end='')\n",
        "    \n",
        "    def on_epoch_end(self, epoch, logs=None):\n",
        "        if (epoch+1)%10 == 1:\n",
        "            print(\" Loss: \", logs[\"loss\"], \" Acc: \", logs[\"categorical_accuracy\"], \" Val Loss: \", logs[\"val_loss\"], \" Val Acc: \", logs[\"val_categorical_accuracy\"])\n",
        "\n",
        "def NeuralNetLearner(features, labels, valid_features, valid_labels, mask):\n",
        "\n",
        "    mask = np.array(mask)\n",
        "    inx = np.where(mask==0)\n",
        "\n",
        "    scaler = MinMaxScaler()\n",
        "    features_masked = scaler.fit_transform(np.delete(features, inx, axis=1))\n",
        "    valid_features_masked = scaler.transform(np.delete(valid_features, inx, axis=1))\n",
        "\n",
        "    _,sub_features,_,sub_labels = train_test_split(features_masked, labels, test_size = 0.025)\n",
        "\n",
        "    labels = utils.to_categorical(labels)\n",
        "    valid_labels = utils.to_categorical(valid_labels)\n",
        "\n",
        "    sub_labels = utils.to_categorical(sub_labels)\n",
        "\n",
        "    initializer = tf.keras.initializers.GlorotUniform()\n",
        "\n",
        "    def lr_scheduler(epoch, lr):\n",
        "        decay_rate = 0.1\n",
        "        decay_step = [50, 70, 90]\n",
        "        for step in decay_step:\n",
        "            if epoch % step == 0 and epoch:\n",
        "                return lr * decay_rate\n",
        "        return lr\n",
        "\n",
        "    inp = Input( shape = (features_masked.shape[1],))\n",
        "    x = Dense(128, activation = \"sigmoid\")(inp)\n",
        "    x = Dense(1024, kernel_initializer = initializer, activation = \"relu\")(x)\n",
        "    x = Dense(256, kernel_initializer = initializer, activation = \"relu\")(x)\n",
        "    x = Dense(512, kernel_initializer = initializer, activation = \"relu\")(x)\n",
        "    x = Dense(1024, kernel_initializer = initializer, activation = \"relu\")(x)\n",
        "    x = Dense(1024, kernel_initializer = initializer, activation = \"relu\")(x)\n",
        "    x = Dense(512, kernel_initializer = initializer, activation = \"relu\")(x)\n",
        "    x = Dense(256, kernel_initializer = initializer, activation = \"relu\")(x)\n",
        "    x = Dense(1024, kernel_initializer = initializer, activation = \"relu\")(x)\n",
        "    x = Dense(256, kernel_initializer = initializer, activation = \"relu\")(x)\n",
        "    x = Dense(512, kernel_initializer = initializer, activation = \"relu\")(x)\n",
        "    x = Dense(1024, kernel_initializer = initializer, activation = \"relu\")(x)\n",
        "    x = Dense(1024, kernel_initializer = initializer, activation = \"relu\")(x)\n",
        "    x = Dense(512, kernel_initializer = initializer, activation = \"relu\")(x)\n",
        "    x = Dense(256, kernel_initializer = initializer, activation = \"relu\")(x)\n",
        "    x = Dense(1024, kernel_initializer = initializer, activation = \"relu\")(x)\n",
        "    x = Dense(256, kernel_initializer = initializer, activation = \"relu\")(x)\n",
        "    x = Dense(512, kernel_initializer = initializer, activation = \"relu\")(x)\n",
        "    x = Dense(1024, kernel_initializer = initializer, activation = \"relu\")(x)\n",
        "    x = Dense(1024, kernel_initializer = initializer, activation = \"relu\")(x)\n",
        "    x = Dense(512, kernel_initializer = initializer, activation = \"relu\")(x)\n",
        "    x = Dense(256, kernel_initializer = initializer, activation = \"relu\")(x)\n",
        "    x = Dense(64, kernel_initializer = initializer, activation = \"relu\")(x)\n",
        "\n",
        "    x = Dense(2, activation = \"softmax\")(x)\n",
        "\n",
        "    model = Model(inp, x)\n",
        "\n",
        "    epochs = 100\n",
        "    callback = [\n",
        "                 tf.keras.callbacks.LearningRateScheduler(lr_scheduler),\n",
        "                PrintLogs(epochs)\n",
        "    ]\n",
        "    model.compile(loss = \"categorical_crossentropy\", optimizer = RMSprop(0.0001), metrics = [\"categorical_accuracy\"])\n",
        "\n",
        "    model.fit(features_masked, labels, validation_data = (valid_features_masked, valid_labels), epochs = epochs, shuffle = True, verbose=0, callbacks = callback)\n",
        "\n",
        "    predicted_labels = model.predict(valid_features_masked, batch_size=128)\n",
        "\n",
        "    score = metrics.accuracy_score(np.argmax(valid_labels, axis=1), np.argmax(predicted_labels,axis=1))\n",
        "    return score, [model, scaler]"
      ],
      "execution_count": 11,
      "outputs": []
    },
    {
      "cell_type": "code",
      "metadata": {
        "id": "w0Sw7iS81IPL"
      },
      "source": [
        "#NeuralNetLearner(train_features, train_labels, valid_features, valid_labels, mask_f)"
      ],
      "execution_count": 12,
      "outputs": []
    },
    {
      "cell_type": "code",
      "metadata": {
        "id": "g1kEThY4V4RV"
      },
      "source": [
        "def Bstep_calc(D_val):\n",
        "    Cstep = 1 / (1 + math.exp(-10 * (D_val - 0.5)))\n",
        "    if Cstep >= random.random():\n",
        "        Bstep = 1\n",
        "    else:\n",
        "        Bstep = 0\n",
        "    \n",
        "    return Bstep\n",
        "\n",
        "def Update_wolf(X, Bstep):\n",
        "    if (X + Bstep) >= 1:\n",
        "        Y = 1\n",
        "    else:\n",
        "        Y = 0\n",
        "    return Y\n",
        "\n",
        "def B_GWO(features, labels, valid_features, valid_labels, num_wolves, max_epoch, learner):\n",
        "\n",
        "    num_features = features.shape[1]\n",
        "\n",
        "    X_prelim = np.zeros((2*num_wolves, num_features))\n",
        "    X = list()\n",
        "    models = [None]*2*num_wolves\n",
        "    \n",
        "\n",
        "    for i in range(num_wolves):\n",
        "        for d in range(num_features):\n",
        "            if random.random() > 0.5:\n",
        "                X_prelim[i,d] = 1\n",
        "    \n",
        "    for i in range(num_wolves):\n",
        "        for d in range(num_features):\n",
        "            if X_prelim[i,d] == 0:\n",
        "                X_prelim[i+num_wolves,d] = 1\n",
        "            else:\n",
        "                X_prelim[i+num_wolves,d] = 0\n",
        "    \n",
        "    fit_prelim = np.zeros(2*num_wolves)\n",
        "    \n",
        "    fit = np.zeros(num_wolves)\n",
        "\n",
        "    for i in range(2*num_wolves):\n",
        "        fit_prelim[i], models[i] = learner(features, labels, valid_features, valid_labels, X_prelim[i])\n",
        "\n",
        "    idx = np.argsort(fit_prelim)\n",
        "\n",
        "    for i in range(-1,-num_wolves-1, -1):\n",
        "        fit[i] = copy(fit_prelim[ idx[i] ])\n",
        "        X.append( copy(X_prelim[ idx[i] ]) )\n",
        "    \n",
        "    X = np.array(X)\n",
        "    \n",
        "    X_alpha = copy(X_prelim[ idx[-1] ])\n",
        "    X_beta = copy(X_prelim[ idx[-2] ])\n",
        "    X_delta = copy(X_prelim[ idx[-3] ])\n",
        "\n",
        "    F_alpha = copy(fit_prelim[ idx[-1] ])\n",
        "    F_beta = copy(fit_prelim[ idx[-2] ])\n",
        "    F_delta = copy(fit_prelim[ idx[-3] ])\n",
        "\n",
        "    M_alpha = copy(models[ idx[-1] ])\n",
        "    M_beta = copy(models[ idx[-2] ])\n",
        "    M_delta = copy(models[ idx[-3] ])\n",
        "\n",
        "    curve = list()\n",
        "    epoch = 1\n",
        "\n",
        "    while (epoch <= max_epoch):\n",
        "        #expontiated modified gwo\n",
        "        a = 4 - (4 * ( (epoch**2) / (max_epoch**2) ))\n",
        "        #a = 2 - (2 * ( (epoch) / (max_epoch) ))\n",
        "        for i in range(num_wolves):\n",
        "            for d in range(num_features):\n",
        "                C1 = 2 * random.random()\n",
        "                C2 = 2 * random.random()\n",
        "                C3 = 2 * random.random()\n",
        "\n",
        "                D_alpha = abs(C1 * X_alpha[d] - X[i][d])\n",
        "                D_beta = abs(C2 * X_beta[d] - X[i][d])\n",
        "                D_delta = abs(C3 * X_delta[d] - X[i][d])\n",
        "\n",
        "                A1 = (2 * random.random() * a) - a\n",
        "\n",
        "                Bstep_1 = Bstep_calc(A1 * D_alpha)\n",
        "                Bstep_2 = Bstep_calc(A1 * D_beta)\n",
        "                Bstep_3 = Bstep_calc(A1 * D_delta)\n",
        "\n",
        "                X1 = Update_wolf(X_alpha[d], Bstep_1)\n",
        "                X2 = Update_wolf(X_beta[d], Bstep_2)\n",
        "                X3 = Update_wolf(X_delta[d], Bstep_3)\n",
        "\n",
        "                rand = random.random()\n",
        "\n",
        "                if rand < 1/3:\n",
        "                    X[i][d] = X1\n",
        "                elif rand < 2/3 and rand >= 1/3:\n",
        "                    X[i][d] = X2\n",
        "                else:\n",
        "                    X[i][d] = X3\n",
        "            \n",
        "            wolf = copy(X[i])\n",
        "            wolf_rev = copy(X[i])\n",
        "            for d in range(num_features):\n",
        "                if wolf[d] == 0:\n",
        "                    wolf_rev[d]=1\n",
        "                else:\n",
        "                    wolf_rev[d]=0\n",
        "            \n",
        "            fitness, mdl = learner(features, labels, valid_features, valid_labels, wolf)\n",
        "            fitness_rev, mdl_rev = learner(features, labels, valid_features, valid_labels, wolf_rev)\n",
        "\n",
        "            if fitness>fitness_rev:\n",
        "                fit[i] = fitness\n",
        "                models[i] = mdl\n",
        "            else:\n",
        "                fit[i] = fitness_rev\n",
        "                models[i] = mdl_rev\n",
        "                for d in range(num_features):\n",
        "                    X[i][d] = wolf_rev[d]\n",
        "        \n",
        "        for i in range(num_wolves):\n",
        "            if fit[i] > F_alpha:\n",
        "                F_delta = copy(F_beta)\n",
        "                X_delta = copy(X_beta)\n",
        "                M_delta = copy(M_beta)\n",
        "\n",
        "                F_beta = copy(F_alpha)\n",
        "                X_beta = copy(X_alpha)\n",
        "                M_beta = copy(M_alpha)\n",
        "\n",
        "                F_alpha = copy(fit[i])\n",
        "                X_alpha = copy(X[i])\n",
        "                M_alpha = copy(models[i])\n",
        "            \n",
        "            if fit[i] > F_beta and fit[i] < F_alpha:\n",
        "                F_delta = copy(F_beta)\n",
        "                X_delta = copy(X_beta)\n",
        "                M_delta = copy(M_beta)\n",
        "\n",
        "                F_beta = copy(fit[i])\n",
        "                X_beta = copy(X[i])\n",
        "                M_beta = copy(models[i])\n",
        "            \n",
        "            if fit[i] > F_delta and fit[i] < F_alpha and fit[i] < F_beta:\n",
        "                F_delta = copy(fit[i])\n",
        "                X_delta = copy(X[i])\n",
        "                M_delta = copy(models[i])\n",
        "        \n",
        "        curve.append(F_alpha)\n",
        "        print(\"Best result for BGWO iteration {} = {}, {}, {}\".format(epoch, F_alpha, F_beta, F_delta))\n",
        "        print(\"Number of features used: {}, {}, {}\".format(np.sum(X_alpha), np.sum(X_beta), np.sum(X_delta)))\n",
        "        epoch += 1\n",
        "    \n",
        "\n",
        "    return M_alpha, X_alpha"
      ],
      "execution_count": 13,
      "outputs": []
    },
    {
      "cell_type": "code",
      "metadata": {
        "id": "C2FzHFVZtyTu"
      },
      "source": [
        "def printmetric(test_features, test_labels, model, mask, scaler, id=None):\n",
        "    mask = np.array(mask)\n",
        "    inx = np.where(mask==0)\n",
        "\n",
        "    features_masked = scaler.transform(np.delete(test_features, inx, axis=1))\n",
        "\n",
        "    tm = time.time()\n",
        "    pred_labels = model.predict(features_masked)\n",
        "    totaltm = time.time()-tm\n",
        "\n",
        "    test_labels = 1-test_labels\n",
        "    pred_labels = 1-pred_labels\n",
        "\n",
        "    print(id)\n",
        "    print(\"-----------------------------------\")\n",
        "    print(\"Accuracy: \", metrics.accuracy_score(test_labels, pred_labels))\n",
        "    print(\"Precision: \", metrics.precision_score(test_labels, pred_labels))\n",
        "    print(\"Sensitivity: \", metrics.recall_score(test_labels, pred_labels))\n",
        "\n",
        "    tn, fp, fn, tp = metrics.confusion_matrix(test_labels, pred_labels).ravel()\n",
        "    specificity = tn / (tn+fp)\n",
        "\n",
        "    print(\"Specificity: \", specificity)\n",
        "    print(\"F1 score: \",metrics.f1_score(test_labels,pred_labels))\n",
        "    print(\"TPR: \", tp/(tp+fn))\n",
        "    print(\"FPR: \", fp/(fp+tn))\n",
        "    print(\"Time: \", (totaltm/test_labels.shape[0])*1000000, \"microsec\")\n",
        "    print(\"-----------------------------------\")"
      ],
      "execution_count": 14,
      "outputs": []
    },
    {
      "cell_type": "markdown",
      "metadata": {
        "id": "VOEh5oO-Yzdi"
      },
      "source": [
        "#Balanced Dataset"
      ]
    },
    {
      "cell_type": "code",
      "metadata": {
        "id": "tWhX3n5pGN9W"
      },
      "source": [
        "best_svc, mask_svc = B_GWO(train_features, train_labels, valid_features, valid_labels, num_wolves = 5, max_epoch = 40, learner = SvcLearner)\n",
        "best_svc, scaler_svc = best_svc\n",
        "score, gen_svc = SvcLearner(train_features, train_labels, valid_features, valid_labels, mask_f)\n",
        "gen_svc, scaler_svc2 = gen_svc\n",
        "print(\"Non BGWO accuracy: \", score)"
      ],
      "execution_count": null,
      "outputs": []
    },
    {
      "cell_type": "code",
      "metadata": {
        "id": "XokrznR8GPZX",
        "colab": {
          "base_uri": "https://localhost:8080/"
        },
        "outputId": "e50014ff-3f79-4847-bc31-04f236a2277d"
      },
      "source": [
        "printmetric(test_features, test_labels, gen_svc, mask_f, scaler_svc2, id=\"Non BGWO\")\n",
        "printmetric(test_features, test_labels, best_svc, mask_svc, scaler_svc, id=\"BGWO\")"
      ],
      "execution_count": 18,
      "outputs": [
        {
          "output_type": "stream",
          "text": [
            "Non BGWO\n",
            "-----------------------------------\n",
            "Accuracy:  0.8141592920353983\n",
            "Precision:  0.7958333333333333\n",
            "Sensitivity:  0.8451327433628318\n",
            "Specificity:  0.7831858407079646\n",
            "F1 score:  0.8197424892703863\n",
            "TPR:  0.8451327433628318\n",
            "FPR:  0.2168141592920354\n",
            "Time:  424.51535705971503 microsec\n",
            "-----------------------------------\n",
            "BGWO\n",
            "-----------------------------------\n",
            "Accuracy:  0.8119469026548672\n",
            "Precision:  0.79375\n",
            "Sensitivity:  0.8429203539823009\n",
            "Specificity:  0.7809734513274337\n",
            "F1 score:  0.8175965665236052\n",
            "TPR:  0.8429203539823009\n",
            "FPR:  0.21902654867256638\n",
            "Time:  305.8498939581677 microsec\n",
            "-----------------------------------\n"
          ],
          "name": "stdout"
        }
      ]
    },
    {
      "cell_type": "code",
      "metadata": {
        "id": "ELCGgixau064"
      },
      "source": [
        "best_rf, mask_rf = B_GWO(train_features, train_labels, valid_features, valid_labels, num_wolves = 5, max_epoch = 40, learner = DecisionTreeLearner)\n",
        "best_rf, scaler_rf = best_rf\n",
        "score, gen_rf = DecisionTreeLearner(train_features, train_labels, valid_features, valid_labels, mask_f)\n",
        "gen_rf, scaler_rf2 = gen_rf\n",
        "print(\"Non BGWO accuracy: \", score)"
      ],
      "execution_count": null,
      "outputs": []
    },
    {
      "cell_type": "code",
      "metadata": {
        "id": "vlHoJXVbcaDW",
        "colab": {
          "base_uri": "https://localhost:8080/"
        },
        "outputId": "ac2c35e5-b89f-47ce-b28f-9fc1d4eca92e"
      },
      "source": [
        "printmetric(test_features, test_labels, gen_rf, mask_f, scaler_rf2, id=\"Non BGWO\")\n",
        "printmetric(test_features, test_labels, best_rf, mask_rf, scaler_rf, id=\"BGWO\")"
      ],
      "execution_count": 20,
      "outputs": [
        {
          "output_type": "stream",
          "text": [
            "Non BGWO\n",
            "-----------------------------------\n",
            "Accuracy:  0.8617256637168141\n",
            "Precision:  0.8562091503267973\n",
            "Sensitivity:  0.8694690265486725\n",
            "Specificity:  0.8539823008849557\n",
            "F1 score:  0.8627881448957189\n",
            "TPR:  0.8694690265486725\n",
            "FPR:  0.14601769911504425\n",
            "Time:  0.5388154392748807 microsec\n",
            "-----------------------------------\n",
            "BGWO\n",
            "-----------------------------------\n",
            "Accuracy:  0.8672566371681416\n",
            "Precision:  0.8721973094170403\n",
            "Sensitivity:  0.8606194690265486\n",
            "Specificity:  0.8738938053097345\n",
            "F1 score:  0.8663697104677061\n",
            "TPR:  0.8606194690265486\n",
            "FPR:  0.1261061946902655\n",
            "Time:  0.6279586690717038 microsec\n",
            "-----------------------------------\n"
          ],
          "name": "stdout"
        }
      ]
    },
    {
      "cell_type": "code",
      "metadata": {
        "id": "tu3_SqoCCPNt"
      },
      "source": [
        "best_knn, mask_knn = B_GWO(train_features, train_labels, valid_features, valid_labels, num_wolves = 5, max_epoch = 40, learner = KnnLearner)\n",
        "best_knn, scaler_knn = best_knn\n",
        "score, gen_knn = KnnLearner(train_features, train_labels, valid_features, valid_labels, mask_f)\n",
        "gen_knn, scaler_knn2 = gen_knn\n",
        "print(\"Non BGWO accuracy: \", score)"
      ],
      "execution_count": null,
      "outputs": []
    },
    {
      "cell_type": "code",
      "metadata": {
        "id": "L5gaEXLPjuKn",
        "colab": {
          "base_uri": "https://localhost:8080/"
        },
        "outputId": "929a66f0-ab91-47ef-da7c-52e71b54c66d"
      },
      "source": [
        "printmetric(test_features, test_labels, gen_knn, mask_f, scaler_knn2, id=\"Non BGWO\")\n",
        "printmetric(test_features, test_labels, best_knn, mask_knn, scaler_knn, id=\"BGWO\")"
      ],
      "execution_count": 16,
      "outputs": [
        {
          "output_type": "stream",
          "text": [
            "Non BGWO\n",
            "-----------------------------------\n",
            "Accuracy:  0.8871681415929203\n",
            "Precision:  0.9186602870813397\n",
            "Sensitivity:  0.8495575221238938\n",
            "Specificity:  0.9247787610619469\n",
            "F1 score:  0.8827586206896552\n",
            "TPR:  0.8495575221238938\n",
            "FPR:  0.0752212389380531\n",
            "Time:  456.1255990931418 microsec\n",
            "-----------------------------------\n",
            "BGWO\n",
            "-----------------------------------\n",
            "Accuracy:  0.8860619469026548\n",
            "Precision:  0.9086651053864169\n",
            "Sensitivity:  0.8584070796460177\n",
            "Specificity:  0.9137168141592921\n",
            "F1 score:  0.882821387940842\n",
            "TPR:  0.8584070796460177\n",
            "FPR:  0.08628318584070796\n",
            "Time:  264.8838325939347 microsec\n",
            "-----------------------------------\n"
          ],
          "name": "stdout"
        }
      ]
    },
    {
      "cell_type": "code",
      "metadata": {
        "id": "E6emQA-0IRT9"
      },
      "source": [
        "mask_f = np.ones((87))\n",
        "best_net, mask_net = B_GWO(train_features, train_labels, valid_features, valid_labels, num_wolves = 5, max_epoch = 40, learner = NeuralNetLearner)\n",
        "best_net, scaler_net = best_net\n",
        "score, gen_net = NeuralNetLearner(train_features, train_labels, valid_features, valid_labels, mask_f)\n",
        "gen_net, scaler_net2 = gen_net\n",
        "print(\"Non BGWO accuracy: \", score)"
      ],
      "execution_count": null,
      "outputs": []
    },
    {
      "cell_type": "code",
      "metadata": {
        "id": "GZeh2jnSr9hI"
      },
      "source": [
        "printmetric(test_features, test_labels, gen_net, mask_f, scaler_net2, id=\"Non BGWO\")\n",
        "printmetric(test_features, test_labels, best_net, mask_net, scaler_net, id=\"BGWO\")"
      ],
      "execution_count": null,
      "outputs": []
    },
    {
      "cell_type": "markdown",
      "metadata": {
        "id": "Uw72YUHlYvn7"
      },
      "source": [
        "#Unbalanced Dataset"
      ]
    },
    {
      "cell_type": "code",
      "metadata": {
        "id": "Ky6FVQSks0Zi",
        "colab": {
          "base_uri": "https://localhost:8080/"
        },
        "outputId": "e912b628-bf44-4fbf-bc5b-5bf87c5b69ea"
      },
      "source": [
        "best_svc, mask_svc = B_GWO(train_features_u, train_labels_u, valid_features_u, valid_labels_u, num_wolves = 5, max_epoch = 40, learner = SvcLearner)\n",
        "best_svc, scaler_svc = best_svc\n",
        "score, gen_svc = SvcLearner(train_features_u, train_labels_u, valid_features_u, valid_labels_u, mask_f)\n",
        "gen_svc, scaler_svc2 = gen_svc\n",
        "print(\"Non BGWO accuracy: \", score)"
      ],
      "execution_count": null,
      "outputs": [
        {
          "output_type": "stream",
          "text": [
            "Best result for BGWO iteration 1 = 0.8719582850521437, 0.8690614136732329, 0.8684820393974507\n",
            "Number of features used: 60.0, 51.0, 51.0\n",
            "Best result for BGWO iteration 2 = 0.8736964078794901, 0.8719582850521437, 0.8713789107763615\n",
            "Number of features used: 53.0, 60.0, 67.0\n",
            "Best result for BGWO iteration 3 = 0.8736964078794901, 0.8719582850521437, 0.8713789107763615\n",
            "Number of features used: 53.0, 60.0, 67.0\n",
            "Best result for BGWO iteration 4 = 0.8754345307068366, 0.8736964078794901, 0.8725376593279258\n",
            "Number of features used: 60.0, 53.0, 64.0\n",
            "Best result for BGWO iteration 5 = 0.8754345307068366, 0.8736964078794901, 0.873117033603708\n",
            "Number of features used: 60.0, 53.0, 63.0\n",
            "Best result for BGWO iteration 6 = 0.8754345307068366, 0.8748551564310545, 0.8736964078794901\n",
            "Number of features used: 60.0, 65.0, 53.0\n",
            "Best result for BGWO iteration 7 = 0.8754345307068366, 0.8748551564310545, 0.8736964078794901\n",
            "Number of features used: 60.0, 65.0, 53.0\n",
            "Best result for BGWO iteration 8 = 0.8765932792584009, 0.8754345307068366, 0.8748551564310545\n",
            "Number of features used: 60.0, 60.0, 65.0\n",
            "Best result for BGWO iteration 9 = 0.8765932792584009, 0.8754345307068366, 0.8748551564310545\n",
            "Number of features used: 60.0, 60.0, 65.0\n",
            "Best result for BGWO iteration 10 = 0.8765932792584009, 0.8754345307068366, 0.8748551564310545\n",
            "Number of features used: 60.0, 60.0, 65.0\n",
            "Best result for BGWO iteration 11 = 0.8771726535341831, 0.8765932792584009, 0.8760139049826188\n",
            "Number of features used: 62.0, 60.0, 63.0\n",
            "Best result for BGWO iteration 12 = 0.8777520278099652, 0.8771726535341831, 0.8765932792584009\n",
            "Number of features used: 63.0, 62.0, 60.0\n",
            "Best result for BGWO iteration 13 = 0.8783314020857474, 0.8777520278099652, 0.8771726535341831\n",
            "Number of features used: 64.0, 63.0, 62.0\n",
            "Best result for BGWO iteration 14 = 0.8794901506373117, 0.8783314020857474, 0.8777520278099652\n",
            "Number of features used: 65.0, 64.0, 63.0\n",
            "Best result for BGWO iteration 15 = 0.8794901506373117, 0.8783314020857474, 0.8777520278099652\n",
            "Number of features used: 65.0, 64.0, 63.0\n",
            "Best result for BGWO iteration 16 = 0.8794901506373117, 0.8783314020857474, 0.8777520278099652\n",
            "Number of features used: 65.0, 64.0, 63.0\n",
            "Best result for BGWO iteration 17 = 0.8800695249130939, 0.8794901506373117, 0.8783314020857474\n",
            "Number of features used: 65.0, 65.0, 64.0\n",
            "Best result for BGWO iteration 18 = 0.8800695249130939, 0.8794901506373117, 0.8783314020857474\n",
            "Number of features used: 65.0, 65.0, 64.0\n",
            "Best result for BGWO iteration 19 = 0.8800695249130939, 0.8794901506373117, 0.8789107763615296\n",
            "Number of features used: 65.0, 65.0, 66.0\n",
            "Best result for BGWO iteration 20 = 0.8800695249130939, 0.8794901506373117, 0.8789107763615296\n",
            "Number of features used: 65.0, 65.0, 66.0\n",
            "Best result for BGWO iteration 21 = 0.8800695249130939, 0.8794901506373117, 0.8789107763615296\n",
            "Number of features used: 65.0, 65.0, 66.0\n",
            "Best result for BGWO iteration 22 = 0.8800695249130939, 0.8794901506373117, 0.8789107763615296\n",
            "Number of features used: 65.0, 65.0, 66.0\n",
            "Best result for BGWO iteration 23 = 0.8800695249130939, 0.8794901506373117, 0.8789107763615296\n",
            "Number of features used: 65.0, 65.0, 66.0\n",
            "Best result for BGWO iteration 24 = 0.8800695249130939, 0.8794901506373117, 0.8789107763615296\n",
            "Number of features used: 65.0, 65.0, 66.0\n",
            "Best result for BGWO iteration 25 = 0.8800695249130939, 0.8794901506373117, 0.8789107763615296\n",
            "Number of features used: 65.0, 65.0, 66.0\n",
            "Best result for BGWO iteration 26 = 0.8800695249130939, 0.8794901506373117, 0.8789107763615296\n",
            "Number of features used: 65.0, 65.0, 66.0\n",
            "Best result for BGWO iteration 27 = 0.8800695249130939, 0.8794901506373117, 0.8789107763615296\n",
            "Number of features used: 65.0, 65.0, 66.0\n",
            "Best result for BGWO iteration 28 = 0.8800695249130939, 0.8794901506373117, 0.8789107763615296\n",
            "Number of features used: 65.0, 65.0, 66.0\n",
            "Best result for BGWO iteration 29 = 0.8800695249130939, 0.8794901506373117, 0.8789107763615296\n",
            "Number of features used: 65.0, 65.0, 66.0\n",
            "Best result for BGWO iteration 30 = 0.8800695249130939, 0.8794901506373117, 0.8789107763615296\n",
            "Number of features used: 65.0, 65.0, 66.0\n",
            "Best result for BGWO iteration 31 = 0.8800695249130939, 0.8794901506373117, 0.8789107763615296\n",
            "Number of features used: 65.0, 65.0, 66.0\n",
            "Best result for BGWO iteration 32 = 0.8800695249130939, 0.8794901506373117, 0.8789107763615296\n",
            "Number of features used: 65.0, 65.0, 66.0\n",
            "Best result for BGWO iteration 33 = 0.8800695249130939, 0.8794901506373117, 0.8789107763615296\n",
            "Number of features used: 65.0, 65.0, 66.0\n",
            "Best result for BGWO iteration 34 = 0.8800695249130939, 0.8794901506373117, 0.8789107763615296\n",
            "Number of features used: 65.0, 65.0, 66.0\n",
            "Best result for BGWO iteration 35 = 0.8800695249130939, 0.8794901506373117, 0.8789107763615296\n",
            "Number of features used: 65.0, 65.0, 66.0\n",
            "Best result for BGWO iteration 36 = 0.8800695249130939, 0.8794901506373117, 0.8789107763615296\n",
            "Number of features used: 65.0, 65.0, 66.0\n",
            "Best result for BGWO iteration 37 = 0.8800695249130939, 0.8794901506373117, 0.8789107763615296\n",
            "Number of features used: 65.0, 65.0, 66.0\n"
          ],
          "name": "stdout"
        }
      ]
    },
    {
      "cell_type": "code",
      "metadata": {
        "id": "68MbE4lbYh86"
      },
      "source": [
        "printmetric(test_features_u, test_labels_u, gen_svc, mask_f, scaler_svc2, id=\"Non BGWO\")\n",
        "printmetric(test_features_u, test_labels_u, best_svc, mask_svc, scaler_svc, id=\"BGWO\")"
      ],
      "execution_count": null,
      "outputs": []
    },
    {
      "cell_type": "code",
      "metadata": {
        "id": "gMrxhwA3s6aK"
      },
      "source": [
        "best_rf, mask_rf = B_GWO(train_features_u, train_labels_u, valid_features_u, valid_labels_u, num_wolves = 5, max_epoch = 40, learner = DecisionTreeLearner)\n",
        "best_rf, scaler_rf = best_rf\n",
        "score, gen_rf = DecisionTreeLearner(train_features_u, train_labels_u, valid_features_u, valid_labels_u, mask_f)\n",
        "gen_rf, scaler_rf2 = gen_rf\n",
        "print(\"Non BGWO accuracy: \", score)"
      ],
      "execution_count": null,
      "outputs": []
    },
    {
      "cell_type": "code",
      "metadata": {
        "id": "LiVTakubY54B"
      },
      "source": [
        "printmetric(test_features_u, test_labels_u, gen_rf, mask_f, scaler_rf2, id=\"Non-BGWO\")\n",
        "printmetric(test_features_u, test_labels_u, best_rf, mask_rf, scaler_rf, id=\"BGWO\")"
      ],
      "execution_count": null,
      "outputs": []
    },
    {
      "cell_type": "code",
      "metadata": {
        "id": "CPSfKQNzzkEZ"
      },
      "source": [
        "best_knn, mask_knn = B_GWO(train_features_u, train_labels_u, valid_features_u, valid_labels_u, num_wolves = 5, max_epoch = 40, learner = KnnLearner)\n",
        "best_knn, scaler_knn = best_knn\n",
        "score, gen_knn = KnnLearner(train_features_u, train_labels_u, valid_features_u, valid_labels_u, mask_f)\n",
        "gen_knn, scaler_knn2 = gen_knn\n",
        "print(\"Non BGWO accuracy: \", score)"
      ],
      "execution_count": null,
      "outputs": []
    },
    {
      "cell_type": "code",
      "metadata": {
        "id": "LfX0TrDxYOwh"
      },
      "source": [
        "printmetric(test_features_u, test_labels_u, gen_knn, mask_f, scaler_knn2, id=\"Non BGWO\")\n",
        "printmetric(test_features_u, test_labels_u, best_knn, mask_knn, scaler_knn, id=\"BGWO\")"
      ],
      "execution_count": null,
      "outputs": []
    },
    {
      "cell_type": "code",
      "metadata": {
        "id": "Lrtn8ithZGXp"
      },
      "source": [
        "mask_f = np.ones((87))\n",
        "best_net, mask_net = B_GWO(train_features_u, train_labels_u, valid_features_u, valid_labels_u, num_wolves = 5, max_epoch = 40, learner = NeuralNetLearner)\n",
        "best_net, scaler_net = best_net\n",
        "score, gen_net = NeuralNetLearner(train_features_u, train_labels_u, valid_features_u, valid_labels_u, mask_f)\n",
        "gen_net, scaler_net2 = gen_net\n",
        "print(\"Non BGWO accuracy: \", score)"
      ],
      "execution_count": null,
      "outputs": []
    },
    {
      "cell_type": "code",
      "metadata": {
        "id": "ZD6yQIMIZU7l"
      },
      "source": [
        "printmetric(test_features_u, test_labels_u, gen_net, mask_f, scaler_net2, id=\"Non BGWO\")\n",
        "printmetric(test_features_u, test_labels_u, best_net, mask_net, scaler_net, id=\"BGWO\")"
      ],
      "execution_count": null,
      "outputs": []
    }
  ]
}